{
 "cells": [
  {
   "cell_type": "markdown",
   "metadata": {},
   "source": [
    "# ResNet Setup"
   ]
  },
  {
   "cell_type": "code",
   "execution_count": 18,
   "metadata": {},
   "outputs": [],
   "source": [
    "# Import libraries\n",
    "from __future__ import print_function\n",
    "import matplotlib\n",
    "%matplotlib inline\n",
    "import matplotlib.pyplot as plt\n",
    "import numpy as np\n",
    "import torch\n",
    "import torch.nn as nn\n",
    "from torch.nn.functional import sigmoid, relu\n",
    "from scipy.cluster.hierarchy import dendrogram, linkage\n",
    "import os\n",
    "\n",
    "import torch\n",
    "import torch.nn as nn\n",
    "import torch.nn.functional as F\n",
    "\n",
    "from torch.utils.data import Dataset\n",
    "from torch.utils.data import DataLoader\n",
    "\n",
    "from torchvision import datasets\n",
    "from torchvision import transforms\n",
    "\n",
    "import time\n",
    "\n",
    "import matplotlib.pyplot as plt\n",
    "from PIL import Image\n",
    "\n",
    "if torch.cuda.is_available():\n",
    "    torch.backends.cudnn.deterministic = True\n",
    "import copy\n",
    "import pickle"
   ]
  },
  {
   "cell_type": "code",
   "execution_count": 2,
   "metadata": {},
   "outputs": [],
   "source": [
    "##########################\n",
    "### SETTINGS\n",
    "##########################\n",
    "\n",
    "# Hyperparameters\n",
    "RANDOM_SEED = 1\n",
    "LEARNING_RATE = 0.001\n",
    "NUM_EPOCHS = 50\n",
    "\n",
    "# Architecture\n",
    "NUM_FEATURES = 128*128\n",
    "NUM_CLASSES = 8\n",
    "BATCH_SIZE = 1\n",
    "if torch.cuda.is_available():\n",
    "    DEVICE = 'cuda:0' # default GPU device\n",
    "else:\n",
    "    DEVICE = 'cpu'\n",
    "GRAYSCALE = False"
   ]
  },
  {
   "cell_type": "code",
   "execution_count": 3,
   "metadata": {},
   "outputs": [],
   "source": [
    "##########################\n",
    "### MODEL\n",
    "##########################\n",
    "\n",
    "\n",
    "def conv3x3(in_planes, out_planes, stride=1):\n",
    "    \"\"\"3x3 convolution with padding\"\"\"\n",
    "    return nn.Conv2d(in_planes, out_planes, kernel_size=3, stride=stride,\n",
    "                     padding=1, bias=False)\n",
    "\n",
    "\n",
    "class Bottleneck(nn.Module):\n",
    "    expansion = 4\n",
    "\n",
    "    def __init__(self, inplanes, planes, stride=1, downsample=None):\n",
    "        super(Bottleneck, self).__init__()\n",
    "        self.conv1 = nn.Conv2d(inplanes, planes, kernel_size=1, bias=False)\n",
    "        self.bn1 = nn.BatchNorm2d(planes)\n",
    "        self.conv2 = nn.Conv2d(planes, planes, kernel_size=3, stride=stride,\n",
    "                               padding=1, bias=False)\n",
    "        self.bn2 = nn.BatchNorm2d(planes)\n",
    "        self.conv3 = nn.Conv2d(planes, planes * 4, kernel_size=1, bias=False)\n",
    "        self.bn3 = nn.BatchNorm2d(planes * 4)\n",
    "        self.relu = nn.ReLU(inplace=True)\n",
    "        self.downsample = downsample\n",
    "        self.stride = stride\n",
    "\n",
    "    def forward(self, x):\n",
    "        residual = x\n",
    "\n",
    "        out = self.conv1(x)\n",
    "        out = self.bn1(out)\n",
    "        out = self.relu(out)\n",
    "\n",
    "        out = self.conv2(out)\n",
    "        out = self.bn2(out)\n",
    "        out = self.relu(out)\n",
    "\n",
    "        out = self.conv3(out)\n",
    "        out = self.bn3(out)\n",
    "\n",
    "        if self.downsample is not None:\n",
    "            residual = self.downsample(x)\n",
    "\n",
    "        out += residual\n",
    "        out = self.relu(out)\n",
    "\n",
    "        return out\n",
    "\n",
    "\n",
    "\n",
    "\n",
    "class ResNet(nn.Module):\n",
    "\n",
    "    def __init__(self, block, layers, num_classes, grayscale):\n",
    "        self.inplanes = 64\n",
    "        if grayscale:\n",
    "            in_dim = 1\n",
    "        else:\n",
    "            in_dim = 3\n",
    "        super(ResNet, self).__init__()\n",
    "        self.conv1 = nn.Conv2d(in_dim, 64, kernel_size=7, stride=2, padding=3,\n",
    "                               bias=False)\n",
    "        self.bn1 = nn.BatchNorm2d(64)\n",
    "        self.relu = nn.ReLU(inplace=True)\n",
    "        self.maxpool = nn.MaxPool2d(kernel_size=3, stride=2, padding=1)\n",
    "        self.layer1 = self._make_layer(block, 64, layers[0])\n",
    "        self.layer2 = self._make_layer(block, 128, layers[1], stride=2)\n",
    "        self.layer3 = self._make_layer(block, 256, layers[2], stride=2)\n",
    "        self.layer4 = self._make_layer(block, 512, layers[3], stride=2)\n",
    "        self.avgpool = nn.AvgPool2d(7, stride=1, padding=2)\n",
    "        self.fc = nn.Linear(2048 * block.expansion, num_classes)\n",
    "\n",
    "        for m in self.modules():\n",
    "            if isinstance(m, nn.Conv2d):\n",
    "                n = m.kernel_size[0] * m.kernel_size[1] * m.out_channels\n",
    "                m.weight.data.normal_(0, (2. / n)**.5)\n",
    "            elif isinstance(m, nn.BatchNorm2d):\n",
    "                m.weight.data.fill_(1)\n",
    "                m.bias.data.zero_()\n",
    "\n",
    "    def _make_layer(self, block, planes, blocks, stride=1):\n",
    "        downsample = None\n",
    "        if stride != 1 or self.inplanes != planes * block.expansion:\n",
    "            downsample = nn.Sequential(\n",
    "                nn.Conv2d(self.inplanes, planes * block.expansion,\n",
    "                          kernel_size=1, stride=stride, bias=False),\n",
    "                nn.BatchNorm2d(planes * block.expansion),\n",
    "            )\n",
    "\n",
    "        layers = []\n",
    "        layers.append(block(self.inplanes, planes, stride, downsample))\n",
    "        self.inplanes = planes * block.expansion\n",
    "        for i in range(1, blocks):\n",
    "            layers.append(block(self.inplanes, planes))\n",
    "\n",
    "        return nn.Sequential(*layers)\n",
    "\n",
    "    def forward(self, x):\n",
    "        x = self.conv1(x)\n",
    "        x = self.bn1(x)\n",
    "        x = self.relu(x)\n",
    "        x = self.maxpool(x)\n",
    "\n",
    "        x = self.layer1(x)\n",
    "        x = self.layer2(x)\n",
    "        x = self.layer3(x)\n",
    "        x = self.layer4(x)\n",
    "\n",
    "        x = self.avgpool(x)\n",
    "        x = x.view(x.size(0), -1)\n",
    "        logits = self.fc(x)\n",
    "        probas = F.softmax(logits, dim=1)\n",
    "        return logits, probas\n",
    "\n",
    "\n",
    "\n",
    "def resnet101(num_classes, grayscale):\n",
    "    \"\"\"Constructs a ResNet-101 model.\"\"\"\n",
    "    model = ResNet(block=Bottleneck, \n",
    "                   layers=[3, 4, 23, 3],\n",
    "                   num_classes=NUM_CLASSES,\n",
    "                   grayscale=grayscale)\n",
    "    return model"
   ]
  },
  {
   "cell_type": "code",
   "execution_count": 7,
   "metadata": {},
   "outputs": [
    {
     "data": {
      "text/plain": [
       "<All keys matched successfully>"
      ]
     },
     "execution_count": 7,
     "metadata": {},
     "output_type": "execute_result"
    }
   ],
   "source": [
    "torch.manual_seed(RANDOM_SEED)\n",
    "\n",
    "model = resnet101(NUM_CLASSES, GRAYSCALE)\n",
    "model.to(DEVICE)\n",
    "model.load_state_dict(torch.load('resnet_epoch50.pth'))"
   ]
  },
  {
   "cell_type": "code",
   "execution_count": 8,
   "metadata": {},
   "outputs": [],
   "source": [
    "custom_transform = transforms.Compose([transforms.Resize((178, 178)),\n",
    "                                       transforms.CenterCrop((128, 128)),\n",
    "                                       #transforms.Grayscale(),                                       \n",
    "                                       #transforms.Lambda(lambda x: x/255.),\n",
    "                                       transforms.ToTensor()])\n",
    "image_datasets=datasets.ImageFolder(r'./val', custom_transform)\n",
    "\n",
    "loader = torch.utils.data.DataLoader(image_datasets, batch_size=BATCH_SIZE, shuffle=False, num_workers=2)"
   ]
  },
  {
   "cell_type": "code",
   "execution_count": 9,
   "metadata": {},
   "outputs": [],
   "source": [
    "def compute_accuracy(model, data_loader, device):\n",
    "    correct_pred, num_examples = 0, 0\n",
    "    for i, (features, targets) in enumerate(data_loader):\n",
    "            \n",
    "        features = features.to(device)\n",
    "        targets = targets.to(device)\n",
    "\n",
    "        logits, probas = model(features)\n",
    "        _, predicted_labels = torch.max(probas, 1)\n",
    "        num_examples += targets.size(0)\n",
    "        correct_pred += (predicted_labels == targets).sum()\n",
    "    return correct_pred.float()/num_examples * 100"
   ]
  },
  {
   "cell_type": "code",
   "execution_count": 10,
   "metadata": {},
   "outputs": [
    {
     "data": {
      "text/plain": [
       "tensor(97.5000, device='cuda:0')"
      ]
     },
     "execution_count": 10,
     "metadata": {},
     "output_type": "execute_result"
    }
   ],
   "source": [
    "model.eval()\n",
    "compute_accuracy(model, loader, DEVICE)"
   ]
  },
  {
   "cell_type": "markdown",
   "metadata": {},
   "source": [
    "# Load semantic data"
   ]
  },
  {
   "cell_type": "code",
   "execution_count": 11,
   "metadata": {
    "scrolled": true
   },
   "outputs": [
    {
     "name": "stdout",
     "output_type": "stream",
     "text": [
      "List of items:\n",
      "['Pine' 'Oak' 'Rose' 'Daisy' 'Robin' 'Canary' 'Sunfish' 'Salmon']\n",
      "List of relations:\n",
      "['ISA' 'Is' 'Can' 'Has']\n",
      "List of attributes:\n",
      "['Living thing' 'Plant' 'Animal' 'Tree' 'Flower' 'Bird' 'Fish' 'Pine'\n",
      " 'Oak' 'Rose' 'Daisy' 'Robin' 'Canary' 'Sunfish' 'Salmon' 'Pretty' 'Big'\n",
      " 'Living' 'Green' 'Red' 'Yellow' 'Grow' 'Move' 'Swim' 'Fly' 'Sing' 'Skin'\n",
      " 'Roots' 'Leaves' 'Bark' 'Branch' 'Petals' 'Wings' 'Feathers' 'Gills'\n",
      " 'Scales']\n"
     ]
    }
   ],
   "source": [
    "with open('data/sem_items.txt','r') as fid:\n",
    "    names_items = np.array([l.strip() for l in fid.readlines()])\n",
    "with open('data/sem_relations.txt','r') as fid:\n",
    "    names_relations = np.array([l.strip() for l in fid.readlines()])\n",
    "with open('data/sem_attributes.txt','r') as fid:\n",
    "    names_attributes = np.array([l.strip() for l in fid.readlines()])\n",
    "        \n",
    "nobj = len(names_items)\n",
    "nrel = len(names_relations)\n",
    "nattributes = len(names_attributes)\n",
    "print('List of items:')\n",
    "print(names_items)\n",
    "print(\"List of relations:\")\n",
    "print(names_relations)\n",
    "print(\"List of attributes:\")\n",
    "print(names_attributes)"
   ]
  },
  {
   "cell_type": "code",
   "execution_count": 12,
   "metadata": {},
   "outputs": [
    {
     "name": "stdout",
     "output_type": "stream",
     "text": [
      "Example input pattern:\n",
      "[1 0 0 0 0 0 0 0 1 0 0 0]\n",
      "Example output pattern:\n",
      "[1 1 0 1 0 0 0 1 0 0 0 0 0 0 0 0 0 0 0 0 0 0 0 0 0 0 0 0 0 0 0 0 0 0 0 0]\n",
      "\n",
      "Which encodes...\n",
      "Item ['Pine']\n",
      "Relation ['ISA']\n",
      "Attributes ['Living thing' 'Plant' 'Tree' 'Pine']\n"
     ]
    }
   ],
   "source": [
    "D = np.loadtxt('data/sem_data.txt')\n",
    "input_pats = D[:,:nobj+nrel]\n",
    "input_pats = torch.tensor(input_pats,dtype=torch.float)\n",
    "output_pats = D[:,nobj+nrel:]\n",
    "output_pats = torch.tensor(output_pats,dtype=torch.float)\n",
    "N = input_pats.shape[0] # number of training patterns\n",
    "input_v = input_pats[0,:].numpy().astype('bool')\n",
    "output_v = output_pats[0,:].numpy().astype('bool')\n",
    "print('Example input pattern:')\n",
    "print(input_v.astype('int'))\n",
    "print('Example output pattern:')\n",
    "print(output_v.astype('int'))\n",
    "print(\"\")\n",
    "print(\"Which encodes...\")\n",
    "print('Item ',end='')\n",
    "print(names_items[input_v[:8]])\n",
    "print('Relation ',end='')\n",
    "print(names_relations[input_v[8:]])\n",
    "print('Attributes ',end='')\n",
    "print(names_attributes[output_v])"
   ]
  },
  {
   "cell_type": "markdown",
   "metadata": {},
   "source": [
    "# Training mynet"
   ]
  },
  {
   "cell_type": "code",
   "execution_count": 13,
   "metadata": {},
   "outputs": [],
   "source": [
    "class Net(nn.Module):\n",
    "    def __init__(self, rep_size, hidden_size):\n",
    "        super(Net, self).__init__()\n",
    "        # Input\n",
    "        #  rep_size : number of hidden units in \"Representation Layer\"\n",
    "        #  hidden_Size : number of hidden units in \"Hidden Layer\"\n",
    "        #\n",
    "        # TODO : YOUR CODE GOES HERE\n",
    "\n",
    "        self.fwd1 = nn.Linear(nobj, rep_size)\n",
    "        self.fwd2 = nn.Linear(nobj+nrel, hidden_size)\n",
    "        self.fwd3 = nn.Linear(hidden_size, nattributes)\n",
    "\n",
    "\n",
    "    def forward(self, x):\n",
    "        # Defines forward pass for the network on input patterns x\n",
    "        #\n",
    "        # Input can take these two forms:\n",
    "        #\n",
    "        #   x: [nobj+nrel 1D Tensor], which is a single input pattern as a 1D tensor\n",
    "        #      (containing both object and relation 1-hot identifier) (batch size is B=1)\n",
    "        #   OR\n",
    "        #   x : [B x (nobj+nrel) Tensor], which is a batch of B input patterns (one for each row)\n",
    "        #\n",
    "        # Output\n",
    "        #   output [B x nattribute Tensor], which is the output pattern for each input pattern B on the Attribute Layer\n",
    "        #   hidden [B x hidden_size Tensor], which are activations in the Hidden Layer\n",
    "        #   rep [B x rep_size Tensor], which are the activations in the Representation LAyer\n",
    "        x = x.view(-1,nobj+nrel) # reshape as size [B x (nobj+nrel) Tensor] if B=1\n",
    "        x_item = x[:,:nobj] # input to Item Layer [B x nobj Tensor]\n",
    "        x_rel = x[:,nobj:] # input to Relation Layer [B x nrel Tensor]\n",
    "        \n",
    "        repitem = relu(self.fwd1(x_item))\n",
    "        rep = torch.cat((repitem, x_rel), dim = 1)\n",
    "        hidden = relu(self.fwd2(rep))\n",
    "        output = torch.sigmoid(self.fwd3(hidden))\n",
    "\n",
    "        \n",
    "        \n",
    "        return output, hidden, rep"
   ]
  },
  {
   "cell_type": "code",
   "execution_count": 14,
   "metadata": {},
   "outputs": [
    {
     "data": {
      "text/plain": [
       "(8, 4, 36)"
      ]
     },
     "execution_count": 14,
     "metadata": {},
     "output_type": "execute_result"
    }
   ],
   "source": [
    "nobj, nrel, nattributes"
   ]
  },
  {
   "cell_type": "code",
   "execution_count": 15,
   "metadata": {},
   "outputs": [],
   "source": [
    "inp_dict = {}\n",
    "out_dict = {}\n",
    "for idx in range(NUM_CLASSES):\n",
    "    output_patterns = D[idx*4:(idx+1)*4, nobj+nrel:]\n",
    "    output_patterns = torch.tensor(output_patterns, dtype = torch.float)\n",
    "    input_patterns = D[idx*4:(idx+1)*4, :nobj+nrel]\n",
    "    input_patterns = torch.tensor(input_patterns, dtype = torch.float)\n",
    "    out_dict[str(idx)] = output_patterns\n",
    "    inp_dict[str(idx)] = input_patterns"
   ]
  },
  {
   "cell_type": "code",
   "execution_count": 16,
   "metadata": {},
   "outputs": [],
   "source": [
    "def train(mynet,num_epochs):\n",
    "\n",
    "    mynet.train()\n",
    "\n",
    "    model.eval()\n",
    "    out_layers = []\n",
    "    rep_layers = []\n",
    "    for e in range(num_epochs): # for each epoch\n",
    "        error_epoch = 0.\n",
    "        perm = np.random.permutation(nrel)\n",
    "        ooo = []\n",
    "        for  i, (features, targets) in enumerate(loader):\n",
    "            features = features.to(DEVICE)\n",
    "            targets = targets.to(DEVICE)\n",
    "            logits, probas = model(features)\n",
    "            _, lbl = torch.max(probas, 1)\n",
    "            lbl = lbl.item()\n",
    "            output_pats = out_dict[str(lbl)]\n",
    "            input_pats = inp_dict[str(lbl)]\n",
    "            oo = []\n",
    "            for p in perm:\n",
    "                mynet.zero_grad() # reset gradient\n",
    "                output, hidden, rep = mynet(input_pats[p,:].cuda()) # forward pass\n",
    "                target = output_pats[p,:].cuda()\n",
    "                loss = criterion(output, target) # compute loss\n",
    "                loss.backward() # compute gradient \n",
    "                optimizer.step() # update network parameters\n",
    "                error_epoch += loss.item()\n",
    "                oo.append(output.cpu().detach().numpy())\n",
    "            ooo.append(np.concatenate(oo, axis = 0))\n",
    "        error_epoch = error_epoch / float(N)        \n",
    "        print('epoch ' + str(e) + ' loss ' + str(round(error_epoch,3)))\n",
    "        out_layers.append(np.concatenate(ooo, axis = 0))\n",
    "        rep_layers.append(get_rep(mynet))\n",
    "    return out_layers, rep_layers"
   ]
  },
  {
   "cell_type": "code",
   "execution_count": 29,
   "metadata": {},
   "outputs": [],
   "source": [
    "def get_rep(net):\n",
    "    # Extract the hidden activations on the Representation Layer for each item\n",
    "    # \n",
    "    # Input\n",
    "    #  net : Net class object\n",
    "    #\n",
    "    # Output\n",
    "    #  rep : [nitem x rep_size numpy array], where each row is an item\n",
    "    input_clean = torch.zeros(nobj,nobj+nrel)\n",
    "    for idx,name in enumerate(names_items):\n",
    "        input_clean[idx,idx] = 1. # 1-hot encoding of each object (while Relation Layer doesn't matter)\n",
    "    output, hidden, rep = mynet(input_clean.cuda())\n",
    "    return rep.cpu().detach().numpy()\n",
    "\n",
    "def plot_rep(rep1,rep2,rep3,names):\n",
    "    #  Compares Representation Layer activations of Items at three different times points in learning (rep1, rep2, rep3)\n",
    "    #  using bar graphs\n",
    "    # \n",
    "    #  Each rep1, rep2, rep3 is a [nitem x rep_size numpy array]\n",
    "    #  names : [nitem list] of item names\n",
    "    #\n",
    "    nepochs_list = [nepochs_phase1,nepochs_phase2,nepochs_phase3]\n",
    "    nrows = nobj\n",
    "    R = np.dstack((rep1,rep2,rep3))    \n",
    "    mx = R.max()\n",
    "    mn = R.min()\n",
    "    depth = R.shape[2]\n",
    "    count = 1\n",
    "    plt.figure(1,figsize=(4.2,8.4))\n",
    "    for i in range(nrows):\n",
    "        for d in range(R.shape[2]):\n",
    "            plt.subplot(nrows, depth, count)\n",
    "            rep = R[i,:,d]\n",
    "            plt.bar(range(rep.size),rep)\n",
    "            plt.ylim([mn,mx])\n",
    "            plt.xticks([])\n",
    "            plt.yticks([])        \n",
    "            if d==0:\n",
    "                plt.ylabel(names[i])\n",
    "            if i==0:\n",
    "                plt.title(\"epoch \" + str(nepochs_list[d]))\n",
    "            count += 1\n",
    "    plt.show()\n",
    "\n",
    "def plot_dendo(rep1,rep2,rep3,names):\n",
    "    #  Compares Representation Layer activations of Items at three different times points in learning (rep1, rep2, rep3)\n",
    "    #  using hierarchical clustering\n",
    "    # \n",
    "    #  Each rep1, rep2, rep3 is a [nitem x rep_size numpy array]\n",
    "    #  names : [nitem list] of item names\n",
    "    #\n",
    "    nepochs_list = [nepochs_phase1,nepochs_phase2,nepochs_phase3]\n",
    "    linked1 = linkage(rep1,'single')\n",
    "    linked2 = linkage(rep2,'single')\n",
    "    linked3 = linkage(rep3,'single')\n",
    "    mx = np.dstack((linked1[:,2],linked2[:,2],linked3[:,2])).max()+0.1    \n",
    "    plt.figure(2,figsize=(7,12))\n",
    "    plt.subplot(3,1,1)    \n",
    "    dendrogram(linked1, labels=names, color_threshold=0)\n",
    "    plt.ylim([0,mx])\n",
    "    plt.title('Hierarchical clustering; ' + \"epoch \" + str(nepochs_list[0]))\n",
    "    plt.ylabel('Euclidean distance')\n",
    "    plt.subplot(3,1,2)\n",
    "    plt.title(\"epoch \" + str(nepochs_list[1]))\n",
    "    dendrogram(linked2, labels=names, color_threshold=0)\n",
    "    plt.ylim([0,mx])\n",
    "    plt.subplot(3,1,3)\n",
    "    plt.title(\"epoch \" + str(nepochs_list[2]))\n",
    "    dendrogram(linked3, labels=names, color_threshold=0)\n",
    "    plt.ylim([0,mx])\n",
    "    plt.show()"
   ]
  },
  {
   "cell_type": "markdown",
   "metadata": {},
   "source": [
    "# load pretrained or retrain"
   ]
  },
  {
   "cell_type": "code",
   "execution_count": 17,
   "metadata": {},
   "outputs": [],
   "source": [
    "load_pretrained = True\n",
    "\n",
    "\n",
    "if load_pretrained:\n",
    "    mynet = Net(rep_size=8,hidden_size=15)\n",
    "    mynet.load_state_dict(torch.load('mynet_epoch200.pth'))\n",
    "    mynet.to(DEVICE)\n",
    "    with open('out_layer.pkl', 'rb') as file:\n",
    "        out = pickle.load(file)\n",
    "    with open('rep_layer.pkl', 'rb') as file:\n",
    "        rep = pickle.load(file)\n",
    "else:\n",
    "    learning_rate = 0.1\n",
    "    criterion = nn.MSELoss() # mean squared error loss function\n",
    "    mynet = Net(rep_size=8,hidden_size=15)\n",
    "    mynet.to(DEVICE)\n",
    "    optimizer = torch.optim.SGD(mynet.parameters(), lr=learning_rate) # stochastic gradient descent\n",
    "    out, rep = train(mynet,200)\n"
   ]
  },
  {
   "cell_type": "markdown",
   "metadata": {},
   "source": [
    "# Saving model and layers"
   ]
  },
  {
   "cell_type": "code",
   "execution_count": 19,
   "metadata": {},
   "outputs": [],
   "source": [
    "\n",
    "# with open('rep_layer.pkl', 'wb') as file:\n",
    "#     pickle.dump(rep, file)\n",
    "    \n",
    "# with open('out_layer.pkl', 'wb') as file:\n",
    "#     pickle.dump(out, file)\n",
    "\n",
    "#save mynet\n",
    "# torch.save(mynet.state_dict(), 'mynet_epoch200.pth')"
   ]
  },
  {
   "cell_type": "markdown",
   "metadata": {},
   "source": [
    "# Plot rep and dendo"
   ]
  },
  {
   "cell_type": "code",
   "execution_count": 33,
   "metadata": {},
   "outputs": [],
   "source": [
    "e1 = 50\n",
    "e2 = 120\n",
    "e3 = 199\n",
    "\n",
    "nepochs_phase1 = e1\n",
    "nepochs_phase2 = e2\n",
    "nepochs_phase3 = e3"
   ]
  },
  {
   "cell_type": "code",
   "execution_count": 34,
   "metadata": {},
   "outputs": [
    {
     "data": {
      "image/png": "[encoded data removed]",
      "text/plain": [
       "<Figure size 302.4x604.8 with 24 Axes>"
      ]
     },
     "metadata": {},
     "output_type": "display_data"
    }
   ],
   "source": [
    "plot_rep(rep[e1], rep[e2], rep[e3], names_items)"
   ]
  },
  {
   "cell_type": "code",
   "execution_count": 35,
   "metadata": {},
   "outputs": [
    {
     "data": {
      "image/png": "[encoded data removed]",
      "text/plain": [
       "<Figure size 504x864 with 3 Axes>"
      ]
     },
     "metadata": {
      "needs_background": "light"
     },
     "output_type": "display_data"
    }
   ],
   "source": [
    "plot_dendo(rep[e1], rep[e2], rep[e3], names_items)"
   ]
  },
  {
   "cell_type": "markdown",
   "metadata": {},
   "source": [
    "# Plot degradation"
   ]
  },
  {
   "cell_type": "markdown",
   "metadata": {},
   "source": [
    "## Gaussian Noise"
   ]
  },
  {
   "cell_type": "code",
   "execution_count": 103,
   "metadata": {},
   "outputs": [],
   "source": [
    "def apply_gaussian_noise(net,scale) :\n",
    "    \n",
    "    model = copy.deepcopy(net) #otherwise actual model might change in place.\n",
    "    model.eval()\n",
    "    new_weights = model.state_dict()\n",
    "\n",
    "    \n",
    "    # add mutlivariate random matrix element-wise to weights.\n",
    "    noisy_add = np.random.normal(loc=0,scale=scale,\n",
    "                                 size=new_weights['fwd1.weight'].size())\n",
    "    \n",
    "    new_weights['fwd1.weight'] += noisy_add\n",
    "    model.load_state_dict(new_weights)\n",
    "    \n",
    "    return model\n",
    "\n",
    "def apply_dropout_noise(net,probability) :\n",
    "    \n",
    "    model = copy.deepcopy(net) #otherwise actual model might change in place.\n",
    "    model.eval()\n",
    "    new_weights = model.state_dict()\n",
    "\n",
    "    dim1,dim2 = new_weights['fwd1.weight'].size()\n",
    "    \n",
    "    rand_use = np.random.random(size=dim1) > probability\n",
    "    weights_new = (rand_use.astype(int)).reshape(dim1,1) * new_weights['fwd1.weight'].cpu().detach().numpy()\n",
    "    \n",
    "    new_weights['fwd1.weight'] = torch.tensor(weights_new)\n",
    "    model.load_state_dict(new_weights)\n",
    "    \n",
    "    return model\n",
    "\n",
    "def Categorize_Outputs(net,general_names,intermediate_names,specific_names,relation_eval) :\n",
    "    \n",
    "    ind_relation = np.where(names_relations == relation_eval)[0][0]\n",
    "\n",
    "    patterns_eval = input_pats[ind_relation::len(names_relations)]\n",
    "    patterns_truth = output_pats[ind_relation::len(names_relations)]\n",
    "    general_out = []\n",
    "    intermediate_out = []\n",
    "    specific_out = []\n",
    "    negative_out = []\n",
    "\n",
    "    for i,pattern in enumerate(patterns_eval) :\n",
    "        true_output_bool = patterns_truth[i].cpu().detach().numpy().astype('bool')\n",
    "        names_eval = names_attributes[true_output_bool]\n",
    "        mod_output = net(pattern)[0].cpu().detach().numpy()[0][true_output_bool]  \n",
    "        for j,name in enumerate(names_eval) :\n",
    "            if name in general_names :\n",
    "                general_out.append(mod_output[j])\n",
    "            if name in intermediate_names :\n",
    "                intermediate_out.append(mod_output[j])\n",
    "            if name in specific_names :\n",
    "                specific_out.append(mod_output[j])\n",
    "                \n",
    "    inds_truth = np.argwhere(patterns_truth.cpu().detach().numpy())\n",
    "    inds_false = np.argwhere(patterns_truth.cpu().detach().numpy() == 0)\n",
    "\n",
    "    inds_false = inds_false[np.isin(inds_false[:,1],list(set(inds_truth[:,1])))]\n",
    "    negative_outputs = net(patterns_eval)[0].cpu().detach().numpy()[inds_false[:,0],inds_false[:,1]]\n",
    "                \n",
    "    return np.mean(general_out),np.mean(intermediate_out),np.mean(specific_out),np.mean(negative_outputs)\n",
    "\n",
    "def Noise_Degredation(net,scales,num_run,fnc_noise,fnc_categorize,general_names,\n",
    "                      intermediate_names,specific_names,relation_eval) :\n",
    "    \n",
    "    noise_stats = {item:{scale:[] for scale in scales} for \n",
    "                   item in ['general','narrowed','specific','false']}\n",
    "\n",
    "    for scale in scales :\n",
    "        for _ in range(num_run) :\n",
    "            model = fnc_noise(net,scale)\n",
    "            g_out,int_out,s_out,neg_out = fnc_categorize(model,general_names,intermediate_names,\n",
    "                                                 specific_names,relation_eval)\n",
    "            \n",
    "            noise_stats['general'][scale].append(g_out)\n",
    "            noise_stats['narrowed'][scale].append(int_out)\n",
    "            noise_stats['specific'][scale].append(s_out)\n",
    "            noise_stats['false'][scale].append(neg_out)\n",
    "            \n",
    "    return noise_stats"
   ]
  },
  {
   "cell_type": "code",
   "execution_count": 131,
   "metadata": {},
   "outputs": [
    {
     "name": "stdout",
     "output_type": "stream",
     "text": [
      "Living thing 0\n",
      "Plant 1\n",
      "Animal 2\n",
      "Tree 3\n",
      "Flower 4\n",
      "Bird 5\n",
      "Fish 6\n",
      "Pine 7\n",
      "Oak 8\n",
      "Rose 9\n",
      "Daisy 10\n",
      "Robin 11\n",
      "Canary 12\n",
      "Sunfish 13\n",
      "Salmon 14\n",
      "Pretty 15\n",
      "Big 16\n",
      "Living 17\n",
      "Green 18\n",
      "Red 19\n",
      "Yellow 20\n",
      "Grow 21\n",
      "Move 22\n",
      "Swim 23\n",
      "Fly 24\n",
      "Sing 25\n",
      "Skin 26\n",
      "Roots 27\n",
      "Leaves 28\n",
      "Bark 29\n",
      "Branch 30\n",
      "Petals 31\n",
      "Wings 32\n",
      "Feathers 33\n",
      "Gills 34\n",
      "Scales 35\n"
     ]
    }
   ],
   "source": [
    "mynet.to('cpu')\n",
    "for idx, attr in enumerate(names_attributes):\n",
    "    print(attr, idx)"
   ]
  },
  {
   "cell_type": "code",
   "execution_count": 156,
   "metadata": {},
   "outputs": [],
   "source": [
    "# # For ISA #best explained\n",
    "# general = names_attributes[:3]\n",
    "# intermediate = names_attributes[3:7]\n",
    "# specific = names_attributes[7:15]\n",
    "\n",
    "# Is\n",
    "# specific = names_attributes[18]\n",
    "# general = names_attributes[15:18]\n",
    "# intermediate = names_attributes[18:21]\n",
    "\n",
    "# Can\n",
    "\n",
    "# general = names_attributes[21]\n",
    "# intermediate = names_attributes[22:26]\n",
    "# specific = names_attributes[22:26]\n",
    "\n",
    "# Has\n",
    "general = names_attributes[26:28]\n",
    "intermediate = names_attributes[28:30]\n",
    "specific = names_attributes[30:35]\n",
    "\n",
    "\n",
    "\n",
    "relation_eval = 'Has'\n",
    "scales_use = np.linspace(0,8,8)\n",
    "\n",
    "ind_relation = np.where(names_relations == relation_eval)[0][0]\n",
    "patterns_eval = input_pats[ind_relation::len(names_relations)]\n",
    "patterns_truth = output_pats[ind_relation::len(names_relations)]\n",
    "\n",
    "noisy_outputs = Noise_Degredation(mynet,scales_use,60,\n",
    "                                  apply_gaussian_noise,Categorize_Outputs,\n",
    "                                  general,intermediate,specific,relation_eval)\n",
    "\n",
    "noise_formatted = {} \n",
    "for k,v in noisy_outputs.items() :\n",
    "    noise_formatted[k] = {}\n",
    "    for scale,vals in v.items() :\n",
    "        noise_formatted[k][scale] = {}\n",
    "        noise_formatted[k][scale]['mean'] = np.mean(vals,axis=0)\n",
    "        noise_formatted[k][scale]['std'] = np.std(vals,axis=0)"
   ]
  },
  {
   "cell_type": "code",
   "execution_count": 157,
   "metadata": {},
   "outputs": [
    {
     "data": {
      "image/png": "[encoded data removed]",
      "text/plain": [
       "<Figure size 720x360 with 1 Axes>"
      ]
     },
     "metadata": {
      "needs_background": "light"
     },
     "output_type": "display_data"
    }
   ],
   "source": [
    "plt.figure(figsize=(10,5))\n",
    "for k,v in noise_formatted.items() :\n",
    "    to_plot = [v[scale]['mean'] for scale in v.keys()]\n",
    "    to_plot_error = [v[scale]['std'] for scale in v.keys()]\n",
    "    #plt.errorbar(scales_use,to_plot,yerr=to_plot_error,label=k,marker='D')\n",
    "    plt.plot(scales_use, to_plot, label = k, marker = 'D')\n",
    "plt.legend()\n",
    "plt.xticks(scales_use)\n",
    "plt.yticks()\n",
    "plt.title('Gaussian Noise Degradation for < {} > relation with Item specificity'.format(relation_eval))\n",
    "plt.xlabel('Noise')\n",
    "plt.ylabel('Layer Activations')\n",
    "plt.show()"
   ]
  },
  {
   "cell_type": "markdown",
   "metadata": {},
   "source": [
    "## Dropout degradation"
   ]
  },
  {
   "cell_type": "code",
   "execution_count": 158,
   "metadata": {},
   "outputs": [],
   "source": [
    "probabilities_use = np.linspace(0,1,8)\n",
    "relation_eval= 'Has'\n",
    "\n",
    "noisy_outputs = Noise_Degredation(mynet,probabilities_use,60,\n",
    "                                  apply_dropout_noise,Categorize_Outputs,\n",
    "                                  general,intermediate,specific,relation_eval)\n",
    "\n",
    "noise_formatted = {} \n",
    "for k,v in noisy_outputs.items() :\n",
    "    noise_formatted[k] = {}\n",
    "    for scale,vals in v.items() :\n",
    "        noise_formatted[k][scale] = {}\n",
    "        noise_formatted[k][scale]['mean'] = np.mean(vals,axis=0)\n",
    "        noise_formatted[k][scale]['std'] = np.std(vals,axis=0)"
   ]
  },
  {
   "cell_type": "code",
   "execution_count": 159,
   "metadata": {},
   "outputs": [
    {
     "data": {
      "image/png": "[encoded data removed]",
      "text/plain": [
       "<Figure size 720x360 with 1 Axes>"
      ]
     },
     "metadata": {
      "needs_background": "light"
     },
     "output_type": "display_data"
    }
   ],
   "source": [
    "plt.figure(figsize=(10,5))\n",
    "for k,v in noise_formatted.items() :\n",
    "    to_plot = [v[scale]['mean'] for scale in v.keys()]\n",
    "    to_plot_error = [v[scale]['std'] for scale in v.keys()]\n",
    "    #plt.errorbar(probabilities_use,to_plot,yerr=to_plot_error,label=k,linestye=None,marker='D')\n",
    "    plt.plot(probabilities_use, to_plot, label = k, marker = 'D')\n",
    "#plt.hlines(y=.5,xmin=0,xmax=max(probabilities_use),linestyle='--')\n",
    "plt.legend()\n",
    "plt.xticks(probabilities_use)\n",
    "plt.yticks()\n",
    "plt.title('Dropout Degradation for < {} > relation with Item specificity'.format(relation_eval))\n",
    "plt.xlabel('Dropout Prob')\n",
    "plt.ylabel('Layer Activation')\n",
    "plt.show()"
   ]
  },
  {
   "cell_type": "markdown",
   "metadata": {},
   "source": [
    "# Plot species learning curve (bugged)"
   ]
  },
  {
   "cell_type": "code",
   "execution_count": null,
   "metadata": {},
   "outputs": [],
   "source": [
    "# # copy mynet to cpu\n",
    "# mynet.to('cpu')\n",
    "\n",
    "# def Species_Epoch(species,output_layers) :\n",
    "    \n",
    "#     if species not in names_items :\n",
    "#         raise ValueError('Invalid species name')\n",
    "    \n",
    "#     ind_species = np.where(names_items == species)[0]\n",
    "#     input_inds = np.where(input_pats[:,ind_species] == 1)[0]\n",
    "\n",
    "#     characteristics = {val:{} for val in names_relations}\n",
    "#     for n in range(len(output_layers)) :\n",
    "#         for i,v in enumerate(names_relations) :\n",
    "#             input_species = input_pats[input_inds[i]]\n",
    "#             output_species = output_layers[n][input_inds[i]]\n",
    "#             true_output = output_pats[input_inds[i]]\n",
    "\n",
    "#             rels_look = names_attributes[true_output.detach().numpy().astype('bool')] #\n",
    "\n",
    "#             for j,item in enumerate(rels_look) :\n",
    "#                 if item in characteristics[v] :\n",
    "#                     characteristics[v][item].append(output_species[true_output.detach().numpy().astype('bool')][j]) #\n",
    "#                 else :\n",
    "#                     characteristics[v][item] = [output_species[true_output.detach().numpy().astype('bool')][j]]#\n",
    "                    \n",
    "#     return characteristics\n",
    "\n",
    "# def plot_epoch_per_species(fnc_create_data,species,output_layers) :\n",
    "    \n",
    "#     char_out = fnc_create_data(species,output_layers)\n",
    "    \n",
    "#     fig,axes = plt.subplots(nrows=2,ncols=2,figsize=(15,10),sharex=True,sharey=True)\n",
    "#     row,col = 0,0\n",
    "#     for key in char_out.keys() :\n",
    "#         for k,v in char_out[key].items() :\n",
    "#             axes[row][col].plot(list(range(len(output_layers)))[30:],v[30:],label = key+\"_\"+k)\n",
    "#         axes[row][col].legend()\n",
    "#         axes[row][col].set_xlabel('Epoch',fontsize=15)\n",
    "#         axes[row][col].set_ylabel('Activation',fontsize=15)\n",
    "#         axes[row][col].tick_params('both',labelsize=15)\n",
    "#         axes[row][col].set_title(species+' '+key,fontsize=20)\n",
    "#         if row == 1 :\n",
    "#             row -= 1\n",
    "#             col += 1\n",
    "#         else :\n",
    "#             row += 1\n",
    "\n",
    "# plot_epoch_per_species(Species_Epoch,'Pine',final_ooo)"
   ]
  }
 ],
 "metadata": {
  "kernelspec": {
   "display_name": "Python 3",
   "language": "python",
   "name": "python3"
  },
  "language_info": {
   "codemirror_mode": {
    "name": "ipython",
    "version": 3
   },
   "file_extension": ".py",
   "mimetype": "text/x-python",
   "name": "python",
   "nbconvert_exporter": "python",
   "pygments_lexer": "ipython3",
   "version": "3.8.8"
  }
 },
 "nbformat": 4,
 "nbformat_minor": 2
}
